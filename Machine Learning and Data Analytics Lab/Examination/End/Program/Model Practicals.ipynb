{
 "cells": [
  {
   "cell_type": "code",
   "execution_count": 1,
   "id": "e6d94219",
   "metadata": {},
   "outputs": [
    {
     "name": "stdout",
     "output_type": "stream",
     "text": [
      "['0', '1', '0', '1', '1', '1', '0', '1', '0', '1', '0', '0', '0', '1', '1', '1', '0', '1', '1', '0']\n",
      "['0', '0', '0', '0', '1', '0', '1', '1', '1', '1', '0', '0', '0', '0', '0', '1', '0', '1', '1', '0']\n"
     ]
    }
   ],
   "source": [
    "y = ['0', '1', '0', '1', '1', '1', '0', '1', '0', '1', '0', '0', '0', '1', '1', '1', '0', '1', '1', '0']\n",
    "y_pred = ['0', '0', '0', '0', '1', '0', '1', '1', '1', '1', '0', '0', '0', '0', '0', '1', '0', '1', '1', '0']\n",
    "print(y)\n",
    "print(y_pred)"
   ]
  },
  {
   "cell_type": "code",
   "execution_count": 3,
   "id": "b67ea9b7",
   "metadata": {},
   "outputs": [
    {
     "name": "stdout",
     "output_type": "stream",
     "text": [
      "A) Confusion Matrix:  [6, 7, 5, 2]\n",
      "B) Accuracy:  0.65\n",
      "C) Specificity:  0.5833333333333334\n",
      "D) Sensitivity:  0.75\n",
      "E) Precision:  0.5454545454545454\n",
      "F) Recall:  0.75\n",
      "G) Missclassification Error:  0.35\n"
     ]
    }
   ],
   "source": [
    "j = 0\n",
    "TP, TN, FP, FN = 0, 0, 0, 0\n",
    "for i in y:\n",
    "  if i == '1' and y_pred[j] == '1':\n",
    "    TP+=1\n",
    "  if i == '0' and y_pred[j] == '0':\n",
    "    TN+=1\n",
    "  if i == '1' and y_pred[j] == '0':\n",
    "    FP+=1\n",
    "  if i == '0' and y_pred[j] == '1':\n",
    "    FN+=1\n",
    "  j+=1\n",
    "\n",
    "confusion_matirx = [TP, TN, FP, FN]\n",
    "print('A) Confusion Matrix: ', confusion_matirx)\n",
    "\n",
    "ACC = (TP+TN)/(TP+FP+TN+FN)\n",
    "print('B) Accuracy: ', ACC)\n",
    "\n",
    "SP = TN/(TN+FP)\n",
    "print('C) Specificity: ', SP)\n",
    "\n",
    "SN = TP/(TP+FN)\n",
    "print('D) Sensitivity: ', SN)\n",
    "\n",
    "PREC = TP/(TP+FP)\n",
    "print(\"E) Precision: \", PREC)\n",
    "\n",
    "REC = TP/(TP+FN)\n",
    "print('F) Recall: ', REC)\n",
    "\n",
    "MCE = 1-ACC\n",
    "print('G) Missclassification Error: ', MCE)"
   ]
  },
  {
   "cell_type": "code",
   "execution_count": null,
   "id": "e9c5d3c4",
   "metadata": {},
   "outputs": [],
   "source": []
  }
 ],
 "metadata": {
  "kernelspec": {
   "display_name": "Python 3 (ipykernel)",
   "language": "python",
   "name": "python3"
  },
  "language_info": {
   "codemirror_mode": {
    "name": "ipython",
    "version": 3
   },
   "file_extension": ".py",
   "mimetype": "text/x-python",
   "name": "python",
   "nbconvert_exporter": "python",
   "pygments_lexer": "ipython3",
   "version": "3.8.8"
  }
 },
 "nbformat": 4,
 "nbformat_minor": 5
}
